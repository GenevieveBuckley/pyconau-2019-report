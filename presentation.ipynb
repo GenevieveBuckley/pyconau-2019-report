{
 "cells": [
  {
   "cell_type": "markdown",
   "metadata": {
    "slideshow": {
     "slide_type": "slide"
    }
   },
   "source": [
    "# PyConAU 2019 conference\n",
    "* August 2nd - 6th 2019, in Sydney\n",
    "* https://2019.pycon-au.org/talks/\n",
    "\n",
    "PyConAU will be held next in Adelaide in 2020 & 2021.\n"
   ]
  },
  {
   "cell_type": "markdown",
   "metadata": {
    "slideshow": {
     "slide_type": "slide"
    }
   },
   "source": [
    "## Specialist track day\n",
    "\n",
    "* Security and Privacy\n",
    "* DjangoCon AU\n",
    "* Education Track\n",
    "* Science and Data"
   ]
  },
  {
   "cell_type": "markdown",
   "metadata": {
    "slideshow": {
     "slide_type": "slide"
    }
   },
   "source": [
    "### Track highlight: Security and Privacy\n",
    "\n",
    "[Threat Modelling the Death Star](https://2019.pycon-au.org/talks/threat-modeling-the-death-star)\n",
    "\n",
    "Mario Arejas\n",
    "\n",
    "[How to get everyone to get on board with software security: practical tips and suggestions](https://www.youtube.com/watch?v=RJcuUoqGWYw&feature=youtu.be)\n",
    "\n",
    "Tennessee Leeuwenburg"
   ]
  },
  {
   "cell_type": "markdown",
   "metadata": {
    "slideshow": {
     "slide_type": "slide"
    }
   },
   "source": [
    "### Track highlight: DjangoCon AU\n",
    "\n",
    "[The Unspeakable Horror of Discovering You Didn't Write Tests](https://www.youtube.com/watch?v=QD9YlNoTm2c&feature=youtu.be)\n",
    "\n",
    "Melanie Crutchfield"
   ]
  },
  {
   "cell_type": "markdown",
   "metadata": {
    "slideshow": {
     "slide_type": "slide"
    }
   },
   "source": [
    "### Track highlight: Education\n",
    "[Education Seminar Student Showcase](https://www.youtube.com/watch?v=wcPKodGEe20&feature=youtu.be)\n",
    "\n",
    "Eliza Lee, oshua Whitmore, Rohan Van Klinken, Stephan Kashkarov, Anna Brew, Pinak Limaye, Kaya Dahlke, Angus Atkinson, and Yve Nichols-Evans."
   ]
  },
  {
   "cell_type": "markdown",
   "metadata": {
    "slideshow": {
     "slide_type": "slide"
    }
   },
   "source": [
    "### Track highlight: Science and Data\n",
    "\n",
    "[Using Dash by Plotly for Interactive Visualisation of Crime Data](https://www.youtube.com/watch?v=O1gvNeJlIs0&feature=youtu.be)\n",
    "\n",
    "Leo Broska\n"
   ]
  },
  {
   "cell_type": "markdown",
   "metadata": {
    "slideshow": {
     "slide_type": "slide"
    }
   },
   "source": [
    "## Main conference\n",
    "\n",
    "### Keynotes\n",
    "* Aurynn Shaw - [Creating Lasting Change](https://2019.pycon-au.org/talks/aurynn)\n",
    "* VM Brasseur - [The real costs of Open Source Sustainability](https://2019.pycon-au.org/talks/vicky)\n",
    "\n"
   ]
  },
  {
   "cell_type": "markdown",
   "metadata": {
    "slideshow": {
     "slide_type": "slide"
    }
   },
   "source": [
    "## Talk highlights\n",
    "\n",
    "[Python Oddities Explained](https://2019.pycon-au.org/talks/python-oddities-explained)\n",
    "Trey Hunner\n",
    "\n",
    "[Tunnel Snakes Rule!](https://2019.pycon-au.org/talks/tunnel-snakes-rule-bringing-the-many-worlds-of-python-together-to-monitor-melbournes-biggest-infrastructure-project)\n",
    "Evan Brumley (a talk about building the Melbourne Metro tunnel)\n",
    "\n",
    "[Fantastic Blocks and Where to Hide Them](https://2019.pycon-au.org/talks/fantastic-blocks-and-where-to-hide-them)\n",
    "Christopher Neugebauer"
   ]
  },
  {
   "cell_type": "markdown",
   "metadata": {
    "slideshow": {
     "slide_type": "slide"
    }
   },
   "source": [
    "## Lightning talks\n",
    "* [HOWTO: Become a 10x Rockstar Developer](https://youtu.be/AJqcxEzRdSY?t=2660) by Bianca Gibson\n",
    "* [How the moon works](https://youtu.be/AJqcxEzRdSY?t=2970) by Jim \n",
    "* [Pre-European Potatoes](https://youtu.be/q2VmIUaOS9o?t=24) by Brenda Wallace\n",
    "* [Quantum computing in Python](https://youtu.be/q2VmIUaOS9o?t=220) by Jacob Ross (DIY for $40 per half hour)\n",
    "* [Doing Irresponsible Things](https://youtu.be/q2VmIUaOS9o?t=3120) by Karla Burnett (building your own crypto & ssh). \n",
    "* [Fashions of PyConAU](https://youtu.be/q2VmIUaOS9o?t=1396) by Peter Hall\n"
   ]
  },
  {
   "cell_type": "markdown",
   "metadata": {
    "slideshow": {
     "slide_type": "slide"
    }
   },
   "source": [
    "## Let's end with some history and politics\n",
    "\n",
    "[History and Politics of Australian and New Zealand supermarkets and their subsequent mergers and rebrandings](https://youtu.be/AJqcxEzRdSY?t=1097)\n",
    "\n",
    "...which was so wildly successful it spawned a followup lightning talk on Sunday:\n",
    "\n",
    "[The History of History and Politics of Australian and New Zealand supermarkets and their subsequent mergers and rebrandings](https://youtu.be/q2VmIUaOS9o?t=3618)\n"
   ]
  },
  {
   "cell_type": "code",
   "execution_count": null,
   "metadata": {},
   "outputs": [],
   "source": []
  }
 ],
 "metadata": {
  "celltoolbar": "Slideshow",
  "kernelspec": {
   "display_name": "Python 3",
   "language": "python",
   "name": "python3"
  },
  "language_info": {
   "codemirror_mode": {
    "name": "ipython",
    "version": 3
   },
   "file_extension": ".py",
   "mimetype": "text/x-python",
   "name": "python",
   "nbconvert_exporter": "python",
   "pygments_lexer": "ipython3",
   "version": "3.7.3"
  }
 },
 "nbformat": 4,
 "nbformat_minor": 2
}
