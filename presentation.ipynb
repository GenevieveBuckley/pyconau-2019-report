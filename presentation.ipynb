{
 "cells": [
  {
   "cell_type": "markdown",
   "metadata": {
    "slideshow": {
     "slide_type": "slide"
    }
   },
   "source": [
    "# PyConAU 2019 conference\n",
    "* August 2nd - 6th 2019, in Sydney\n",
    "* https://2019.pycon-au.org/talks/\n",
    "\n",
    "PyConAU will be held in Adelaide for the next two years.\n"
   ]
  },
  {
   "cell_type": "markdown",
   "metadata": {
    "slideshow": {
     "slide_type": "slide"
    }
   },
   "source": [
    "## Specialist track day\n",
    "\n",
    "* Security and Privacy\n",
    "* DjangoCon AU\n",
    "* Education Track\n",
    "* Science and Data"
   ]
  },
  {
   "cell_type": "markdown",
   "metadata": {},
   "source": [
    "### Track highlight: Security and Privacy\n",
    "[How to get everyone to get on board with software security: practical tips and suggestions](https://www.youtube.com/watch?v=RJcuUoqGWYw&feature=youtu.be)\n",
    "\n",
    "Tennessee Leeuwenburg"
   ]
  },
  {
   "cell_type": "markdown",
   "metadata": {},
   "source": [
    "### Track highlight: DjangoCon AU\n",
    "\n",
    "[The Unspeakable Horror of Discovering You Didn't Write Tests](https://www.youtube.com/watch?v=QD9YlNoTm2c&feature=youtu.be)\n",
    "\n",
    "Melanie Crutchfield"
   ]
  },
  {
   "cell_type": "markdown",
   "metadata": {},
   "source": [
    "### Track highlight: Education\n",
    "[Education Seminar Student Showcase](https://www.youtube.com/watch?v=wcPKodGEe20&feature=youtu.be)\n",
    "\n",
    "* Sentiment Analysis & Sorting the Confusing World of Social Media, by Eliza Lee\n",
    "* Developing and Implementing a “Harry Potter” House Points System, by Joshua Whitmore and Rohan Van Klinken\n",
    "* Triangles and Sticks, Making GUIs in MicroPython, by Stephan Kashkarov\n",
    "* How Python taught me Maths, by Anna Brew\n",
    "* Text to speech: Viterbi Algorithm Style, by Pinak Limaye\n",
    "* Creating a Big Two AI, by Kaya Dahlke\n",
    "* Extending gifted student programmers with Open Source, by Angus Atkinson\n",
    "* Building a Fake News Detector using Natural Language Processing in Python, by Yve Nichols-Evans\n"
   ]
  },
  {
   "cell_type": "markdown",
   "metadata": {},
   "source": [
    "### Track highlight: Science and Data\n",
    "\n",
    "[Using Dash by Plotly for Interactive Visualisation of Crime Data](https://www.youtube.com/watch?v=O1gvNeJlIs0&feature=youtu.be)\n",
    "\n",
    "Leo Broska\n"
   ]
  },
  {
   "cell_type": "markdown",
   "metadata": {},
   "source": [
    "## Main conference\n",
    "\n",
    "### Keynotes\n",
    "* Aurynn Shaw - [Creating Lasting Change](https://2019.pycon-au.org/talks/aurynn)\n",
    "* VM Brasseur - [The real costs of Open Source Sustainability](https://2019.pycon-au.org/talks/vicky)\n",
    "\n"
   ]
  },
  {
   "cell_type": "markdown",
   "metadata": {},
   "source": [
    "[Python Oddities Explained](https://2019.pycon-au.org/talks/python-oddities-explained)\n",
    "Trey Hunner\n",
    "\n",
    "[Tunnel Snakes Rule!](https://2019.pycon-au.org/talks/tunnel-snakes-rule-bringing-the-many-worlds-of-python-together-to-monitor-melbournes-biggest-infrastructure-project)\n",
    "Evan Brumley (a talk about building the Melbourne Metro tunnel)\n",
    "\n",
    "[Fantastic Blocks and Where to Hide Them](https://2019.pycon-au.org/talks/fantastic-blocks-and-where-to-hide-them)\n",
    "Christopher Neugebauer"
   ]
  },
  {
   "cell_type": "markdown",
   "metadata": {},
   "source": [
    "## Lightning talks\n",
    "* rockstar programmer by Bianca\n",
    "* potatoes\n",
    "* How the moon works\n",
    "* quantum computing (diy for $40 per half hour)\n",
    "* Karla's talk on building her own crypto & ssh\n",
    "* fashions of pyconau\n",
    "* history of supermarkets\n",
    "* ...which was so wildly successful it spawned a followup lightning talk, on 'The history of the thistory and politics of Australian and New Zealand supermarkets'\n",
    "\n"
   ]
  },
  {
   "cell_type": "markdown",
   "metadata": {},
   "source": []
  }
 ],
 "metadata": {
  "celltoolbar": "Slideshow",
  "kernelspec": {
   "display_name": "Python 3",
   "language": "python",
   "name": "python3"
  },
  "language_info": {
   "codemirror_mode": {
    "name": "ipython",
    "version": 3
   },
   "file_extension": ".py",
   "mimetype": "text/x-python",
   "name": "python",
   "nbconvert_exporter": "python",
   "pygments_lexer": "ipython3",
   "version": "3.7.4"
  }
 },
 "nbformat": 4,
 "nbformat_minor": 2
}
